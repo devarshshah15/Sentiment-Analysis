{
  "nbformat": 4,
  "nbformat_minor": 0,
  "metadata": {
    "colab": {
      "name": "BaselineModel",
      "provenance": [],
      "collapsed_sections": []
    },
    "kernelspec": {
      "name": "python3",
      "display_name": "Python 3"
    }
  },
  "cells": [
    {
      "cell_type": "markdown",
      "metadata": {
        "id": "8p-gxnIE-lsJ",
        "colab_type": "text"
      },
      "source": [
        "**Importing Libraries**"
      ]
    },
    {
      "cell_type": "code",
      "metadata": {
        "id": "RCejS5WpXRCZ",
        "colab_type": "code",
        "colab": {
          "base_uri": "https://localhost:8080/",
          "height": 86
        },
        "outputId": "25a09cf6-831d-4b5e-b533-00ff779f4996"
      },
      "source": [
        "import pandas as pd\n",
        "import nltk\n",
        "import re\n",
        "import numpy as np\n",
        "nltk.download('punkt')\n",
        "nltk.download('stopwords')\n",
        "from nltk.corpus import stopwords\n",
        "from sklearn.metrics import classification_report\n",
        "from sklearn.svm import SVC, LinearSVC\n",
        "from sklearn.feature_extraction.text import CountVectorizer, TfidfVectorizer\n",
        "from sklearn.linear_model import LogisticRegression\n",
        "from sklearn.metrics import accuracy_score,f1_score\n",
        "from nltk.stem.porter import PorterStemmer\n",
        "from nltk.stem import LancasterStemmer\n",
        "from gensim.models import word2vec\n",
        "from nltk.tokenize import word_tokenize\n",
        "from sklearn.ensemble import RandomForestClassifier"
      ],
      "execution_count": 19,
      "outputs": [
        {
          "output_type": "stream",
          "text": [
            "[nltk_data] Downloading package punkt to /root/nltk_data...\n",
            "[nltk_data]   Package punkt is already up-to-date!\n",
            "[nltk_data] Downloading package stopwords to /root/nltk_data...\n",
            "[nltk_data]   Package stopwords is already up-to-date!\n"
          ],
          "name": "stdout"
        }
      ]
    },
    {
      "cell_type": "markdown",
      "metadata": {
        "id": "sH9ZFV1K-qkD",
        "colab_type": "text"
      },
      "source": [
        "**Reading Data**"
      ]
    },
    {
      "cell_type": "code",
      "metadata": {
        "id": "NSdb_vP4EcTI",
        "colab_type": "code",
        "colab": {
          "base_uri": "https://localhost:8080/",
          "height": 190
        },
        "outputId": "0b6684f4-21f8-4454-e651-bfb0801c2160"
      },
      "source": [
        "df_train = pd.read_excel('P1_training.xlsx')\n",
        "df_test = pd.read_excel('P1_testing.xlsx')\n",
        "sentence=df_train['sentence']\n",
        "label=df_train['label']\n",
        "sentence_test=df_test['sentence']\n",
        "label_test=df_test['label']\n",
        "print(\"Training Data\")\n",
        "print(label.value_counts())\n",
        "print(\"Testing Data\")\n",
        "print(label_test.value_counts())"
      ],
      "execution_count": 7,
      "outputs": [
        {
          "output_type": "stream",
          "text": [
            "Training Data\n",
            "1    736\n",
            "2    661\n",
            "0    263\n",
            "Name: label, dtype: int64\n",
            "Testing Data\n",
            "1    303\n",
            "2    298\n",
            "0     82\n",
            "Name: label, dtype: int64\n"
          ],
          "name": "stdout"
        }
      ]
    },
    {
      "cell_type": "markdown",
      "metadata": {
        "id": "guoTqR1E-f4N",
        "colab_type": "text"
      },
      "source": [
        "**Preprocessing Data**"
      ]
    },
    {
      "cell_type": "code",
      "metadata": {
        "id": "2xWaMtBNImzi",
        "colab_type": "code",
        "colab": {}
      },
      "source": [
        "def preprocessor(text):\n",
        "  review=re.sub('\\[[^]]*\\]', ' ', text)\n",
        "  review=re.sub('[^a-zA-z]', ' ', text)\n",
        "  review=review.lower().split()\n",
        "  review=[i for i in review if not i in set(stopwords.words('english'))]\n",
        "  review= ' '.join(review)\n",
        "  return review"
      ],
      "execution_count": 8,
      "outputs": []
    },
    {
      "cell_type": "code",
      "metadata": {
        "id": "n6uImRKZN4Lv",
        "colab_type": "code",
        "colab": {}
      },
      "source": [
        "sentence=sentence.apply(preprocessor)\n",
        "sentence_test=sentence_test.apply(preprocessor)"
      ],
      "execution_count": 9,
      "outputs": []
    },
    {
      "cell_type": "markdown",
      "metadata": {
        "id": "HAdnKmky-_1D",
        "colab_type": "text"
      },
      "source": [
        "**Tfidf Vectorizer with Classifiers**"
      ]
    },
    {
      "cell_type": "code",
      "metadata": {
        "id": "IXFykhnI6UVK",
        "colab_type": "code",
        "colab": {}
      },
      "source": [
        "# Create feature vectors\n",
        "vectorizer = TfidfVectorizer()\n",
        "train_vectors = vectorizer.fit_transform(sentence)\n",
        "train_vectors_test=vectorizer.transform(sentence_test)\n",
        "\n"
      ],
      "execution_count": 10,
      "outputs": []
    },
    {
      "cell_type": "code",
      "metadata": {
        "id": "AJfX2n5qSQWk",
        "colab_type": "code",
        "colab": {
          "base_uri": "https://localhost:8080/",
          "height": 207
        },
        "outputId": "40bb6230-27a4-403e-c0aa-e5d7cb8700ab"
      },
      "source": [
        "#Linear SVC\n",
        "clf=LinearSVC()\n",
        "clf.fit(train_vectors,label)\n",
        "predictions=clf.predict(train_vectors_test)\n",
        "print (classification_report(label_test,predictions))\n",
        "print(\"Accuracy is\",accuracy_score(predictions,label_test))"
      ],
      "execution_count": 11,
      "outputs": [
        {
          "output_type": "stream",
          "text": [
            "              precision    recall  f1-score   support\n",
            "\n",
            "           0       0.27      0.09      0.13        82\n",
            "           1       0.57      0.66      0.61       303\n",
            "           2       0.58      0.59      0.58       298\n",
            "\n",
            "    accuracy                           0.56       683\n",
            "   macro avg       0.47      0.44      0.44       683\n",
            "weighted avg       0.53      0.56      0.54       683\n",
            "\n",
            "Accuracy is 0.5592972181551976\n"
          ],
          "name": "stdout"
        }
      ]
    },
    {
      "cell_type": "code",
      "metadata": {
        "id": "a1-ck-BmjgHK",
        "colab_type": "code",
        "colab": {
          "base_uri": "https://localhost:8080/",
          "height": 207
        },
        "outputId": "2176e315-83e6-408d-aa18-9e5142765c01"
      },
      "source": [
        "#Random Forest Classifiers\n",
        "clf = RandomForestClassifier(n_estimators=10, random_state=0)\n",
        "clf.fit(train_vectors,label)\n",
        "predictions=clf.predict(train_vectors_test)\n",
        "print (classification_report(label_test,predictions))\n",
        "print(\"Accuracy is\",accuracy_score(predictions,label_test))"
      ],
      "execution_count": 12,
      "outputs": [
        {
          "output_type": "stream",
          "text": [
            "              precision    recall  f1-score   support\n",
            "\n",
            "           0       0.25      0.05      0.08        82\n",
            "           1       0.55      0.71      0.62       303\n",
            "           2       0.56      0.53      0.55       298\n",
            "\n",
            "    accuracy                           0.55       683\n",
            "   macro avg       0.46      0.43      0.42       683\n",
            "weighted avg       0.52      0.55      0.52       683\n",
            "\n",
            "Accuracy is 0.5505124450951684\n"
          ],
          "name": "stdout"
        }
      ]
    },
    {
      "cell_type": "markdown",
      "metadata": {
        "id": "uSL6kQlKDzxY",
        "colab_type": "text"
      },
      "source": [
        "**Count Vectorizer**"
      ]
    },
    {
      "cell_type": "code",
      "metadata": {
        "id": "phkz67qnDxJf",
        "colab_type": "code",
        "colab": {}
      },
      "source": [
        "vectorizer1 = CountVectorizer()\n",
        "train_vectors_1 = vectorizer1.fit_transform(sentence)\n",
        "train_vectors_test_1=vectorizer1.transform(sentence_test)"
      ],
      "execution_count": 13,
      "outputs": []
    },
    {
      "cell_type": "code",
      "metadata": {
        "id": "iK3AhHLTEB8t",
        "colab_type": "code",
        "colab": {
          "base_uri": "https://localhost:8080/",
          "height": 207
        },
        "outputId": "7cfbcba1-4bf5-4620-9949-027dc1720b4f"
      },
      "source": [
        "#Linear SVC\n",
        "clf=LinearSVC()\n",
        "clf.fit(train_vectors_1,label)\n",
        "predictions=clf.predict(train_vectors_test_1)\n",
        "print (classification_report(label_test,predictions))\n",
        "print(\"Accuracy is\",accuracy_score(predictions,label_test))"
      ],
      "execution_count": 14,
      "outputs": [
        {
          "output_type": "stream",
          "text": [
            "              precision    recall  f1-score   support\n",
            "\n",
            "           0       0.22      0.18      0.20        82\n",
            "           1       0.55      0.60      0.58       303\n",
            "           2       0.57      0.54      0.56       298\n",
            "\n",
            "    accuracy                           0.53       683\n",
            "   macro avg       0.45      0.44      0.44       683\n",
            "weighted avg       0.52      0.53      0.52       683\n",
            "\n",
            "Accuracy is 0.527086383601757\n"
          ],
          "name": "stdout"
        }
      ]
    },
    {
      "cell_type": "code",
      "metadata": {
        "id": "gg3swTyGEKut",
        "colab_type": "code",
        "colab": {
          "base_uri": "https://localhost:8080/",
          "height": 207
        },
        "outputId": "5b0e82d0-db7b-4131-9670-dadc596e9f64"
      },
      "source": [
        "#Random Forest Classifiers\n",
        "clf = RandomForestClassifier(n_estimators=10, random_state=0)\n",
        "clf.fit(train_vectors_1,label)\n",
        "predictions=clf.predict(train_vectors_test_1)\n",
        "print (classification_report(label_test,predictions))\n",
        "print(\"Accuracy is\",accuracy_score(predictions,label_test))"
      ],
      "execution_count": 15,
      "outputs": [
        {
          "output_type": "stream",
          "text": [
            "              precision    recall  f1-score   support\n",
            "\n",
            "           0       0.67      0.05      0.09        82\n",
            "           1       0.51      0.79      0.62       303\n",
            "           2       0.59      0.41      0.48       298\n",
            "\n",
            "    accuracy                           0.53       683\n",
            "   macro avg       0.59      0.42      0.40       683\n",
            "weighted avg       0.56      0.53      0.50       683\n",
            "\n",
            "Accuracy is 0.5344070278184481\n"
          ],
          "name": "stdout"
        }
      ]
    },
    {
      "cell_type": "markdown",
      "metadata": {
        "id": "eby0EmsZERz5",
        "colab_type": "text"
      },
      "source": [
        "**Word2Vec**"
      ]
    },
    {
      "cell_type": "code",
      "metadata": {
        "id": "2VDkwA-3osAs",
        "colab_type": "code",
        "colab": {}
      },
      "source": [
        "porter=LancasterStemmer()\n",
        "res=[]\n",
        "for i in sentence:\n",
        "  res.append(word_tokenize(i))\n",
        "res_test=[]\n",
        "for i in sentence_test:\n",
        "  res_test.append(word_tokenize(i))\n",
        "for doc in res:\n",
        "  for i in doc:\n",
        "    i=porter.stem(i)\n",
        "for doc in res_test:\n",
        "  for i in doc:\n",
        "    i=porter.stem(i)\n"
      ],
      "execution_count": 23,
      "outputs": []
    },
    {
      "cell_type": "code",
      "metadata": {
        "id": "rCOO3sY5vceT",
        "colab_type": "code",
        "colab": {}
      },
      "source": [
        "from gensim.models import word2vec\n",
        "import warnings\n",
        "warnings.filterwarnings('ignore')\n",
        "model=word2vec.Word2Vec(res, min_count=1)\n",
        "model.train(sentences=res, total_examples=len(res), epochs=100)\n",
        "\n",
        "answer=[]\n",
        "for doc in res:\n",
        "  res1=[]  \n",
        "  for i in doc:\n",
        "    word_vec = model[i] \n",
        "    doc_vector=word_vec.mean()\n",
        "    res1.append(doc_vector)\n",
        "  a=np.array(res1).mean()\n",
        "  answer.append([a])\n",
        "data=np.array(answer)\n",
        "\n",
        "\n",
        "model1=word2vec.Word2Vec(res_test,min_count=1)\n",
        "model1.train(sentences=res_test, total_examples=len(res_test), epochs=100)\n",
        "answer=[]\n",
        "for doc in res_test:\n",
        "  res1_test=[]  \n",
        "  for i in doc:\n",
        "    word_vec = model1[i] \n",
        "    doc_vector=word_vec.mean()\n",
        "    res1_test.append(doc_vector)\n",
        "  a=np.array(res1_test).mean()\n",
        "  answer.append([a])\n",
        "data_test=np.array(answer)\n"
      ],
      "execution_count": 24,
      "outputs": []
    },
    {
      "cell_type": "code",
      "metadata": {
        "id": "0HtNIy6SLewP",
        "colab_type": "code",
        "colab": {
          "base_uri": "https://localhost:8080/",
          "height": 52
        },
        "outputId": "8df2774e-d759-498a-861e-6ab22596961b"
      },
      "source": [
        "clf=LinearSVC()\n",
        "clf.fit(data,label)\n",
        "predictions=clf.predict(data_test)\n",
        "print(\"Accuracy is\",accuracy_score(predictions,label_test))\n",
        "print(\"F1 Score is\",f1_score(predictions,label_test,average='weighted'))"
      ],
      "execution_count": 25,
      "outputs": [
        {
          "output_type": "stream",
          "text": [
            "Accuracy is 0.49633967789165445\n",
            "F1 Score is 0.5701196381060829\n"
          ],
          "name": "stdout"
        }
      ]
    },
    {
      "cell_type": "code",
      "metadata": {
        "id": "zPvyRrRVMqKd",
        "colab_type": "code",
        "colab": {
          "base_uri": "https://localhost:8080/",
          "height": 52
        },
        "outputId": "72b913af-289f-46c1-e34f-eabe2c6f7e51"
      },
      "source": [
        "clf = LogisticRegression(random_state=0,max_iter=500)\n",
        "clf.fit(data,label)\n",
        "predictions=clf.predict(data_test)\n",
        "print(\"Accuracy is\",accuracy_score(predictions,label_test))\n",
        "print(\"F1 Score is\",f1_score(predictions,label_test,average='weighted'))"
      ],
      "execution_count": 26,
      "outputs": [
        {
          "output_type": "stream",
          "text": [
            "Accuracy is 0.4670571010248902\n",
            "F1 Score is 0.5763144106514149\n"
          ],
          "name": "stdout"
        }
      ]
    }
  ]
}