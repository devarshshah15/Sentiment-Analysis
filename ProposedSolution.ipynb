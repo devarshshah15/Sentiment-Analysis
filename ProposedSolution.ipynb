{
  "nbformat": 4,
  "nbformat_minor": 0,
  "metadata": {
    "colab": {
      "name": "ProposedSolution .ipynb",
      "provenance": [],
      "collapsed_sections": []
    },
    "kernelspec": {
      "name": "python3",
      "display_name": "Python 3"
    }
  },
  "cells": [
    {
      "cell_type": "markdown",
      "metadata": {
        "id": "Cm2x7JE6dXz2",
        "colab_type": "text"
      },
      "source": [
        "**Importing libraries**"
      ]
    },
    {
      "cell_type": "code",
      "metadata": {
        "id": "9k1GhLPBE4mq",
        "colab_type": "code",
        "colab": {
          "base_uri": "https://localhost:8080/",
          "height": 86
        },
        "outputId": "293c4e6e-9353-40db-e693-1c1aa375756b"
      },
      "source": [
        "import pandas as pd\n",
        "import nltk\n",
        "import re\n",
        "import numpy as np\n",
        "nltk.download('punkt')\n",
        "nltk.download('stopwords')\n",
        "from nltk.corpus import stopwords\n",
        "from sklearn.metrics import classification_report\n",
        "from sklearn.svm import SVC, LinearSVC\n",
        "from sklearn.feature_extraction.text import CountVectorizer, TfidfVectorizer\n",
        "from sklearn.linear_model import LogisticRegression\n",
        "from sklearn.metrics import accuracy_score,f1_score\n",
        "from nltk.stem.porter import PorterStemmer\n",
        "from nltk.stem import LancasterStemmer\n",
        "from gensim.models import word2vec\n",
        "from nltk.tokenize import word_tokenize\n",
        "from sklearn.ensemble import RandomForestClassifier"
      ],
      "execution_count": 11,
      "outputs": [
        {
          "output_type": "stream",
          "text": [
            "[nltk_data] Downloading package punkt to /root/nltk_data...\n",
            "[nltk_data]   Unzipping tokenizers/punkt.zip.\n",
            "[nltk_data] Downloading package stopwords to /root/nltk_data...\n",
            "[nltk_data]   Unzipping corpora/stopwords.zip.\n"
          ],
          "name": "stdout"
        }
      ]
    },
    {
      "cell_type": "code",
      "metadata": {
        "id": "uxKY9R_zFDbS",
        "colab_type": "code",
        "colab": {
          "base_uri": "https://localhost:8080/",
          "height": 190
        },
        "outputId": "b5ecebeb-4d13-4daa-e72a-4e32f3b460c6"
      },
      "source": [
        "df_train = pd.read_excel('P1_training.xlsx')\n",
        "df_test = pd.read_excel('P1_testing.xlsx')\n",
        "sentence=df_train['sentence']\n",
        "label=df_train['label']\n",
        "sentence_test=df_test['sentence']\n",
        "label_test=df_test['label']\n",
        "print(\"Training Data\")\n",
        "print(label.value_counts())\n",
        "print(\"Testing Data\")\n",
        "print(label_test.value_counts())"
      ],
      "execution_count": 13,
      "outputs": [
        {
          "output_type": "stream",
          "text": [
            "Training Data\n",
            "1    736\n",
            "2    661\n",
            "0    263\n",
            "Name: label, dtype: int64\n",
            "Testing Data\n",
            "1    303\n",
            "2    298\n",
            "0     82\n",
            "Name: label, dtype: int64\n"
          ],
          "name": "stdout"
        }
      ]
    },
    {
      "cell_type": "markdown",
      "metadata": {
        "id": "LwKp1xoUde26",
        "colab_type": "text"
      },
      "source": [
        "**Data Preprocessing**"
      ]
    },
    {
      "cell_type": "code",
      "metadata": {
        "id": "rFxMVp5eFElN",
        "colab_type": "code",
        "colab": {}
      },
      "source": [
        "def preprocessor(text):\n",
        "  review=re.sub('\\[[^]]*\\]', ' ', text)\n",
        "  review=re.sub('[^a-zA-z]', ' ', text)\n",
        "  review=review.lower().split()\n",
        "  review=[i for i in review if not i in set(stopwords.words('english'))]\n",
        "  review= ' '.join(review)\n",
        "  return review\n",
        "sentence=sentence.apply(preprocessor)\n",
        "sentence_test=sentence_test.apply(preprocessor)"
      ],
      "execution_count": 14,
      "outputs": []
    },
    {
      "cell_type": "markdown",
      "metadata": {
        "id": "O0BgQv7NdiuN",
        "colab_type": "text"
      },
      "source": [
        "**Downloading Spacy model**"
      ]
    },
    {
      "cell_type": "code",
      "metadata": {
        "id": "oq9l9s_fGTRk",
        "colab_type": "code",
        "colab": {
          "base_uri": "https://localhost:8080/",
          "height": 590
        },
        "outputId": "754b856e-f54c-49e3-a60b-75b4cb482490"
      },
      "source": [
        "!python -m spacy download en_core_web_lg"
      ],
      "execution_count": 15,
      "outputs": [
        {
          "output_type": "stream",
          "text": [
            "Collecting en_core_web_lg==2.2.5\n",
            "\u001b[?25l  Downloading https://github.com/explosion/spacy-models/releases/download/en_core_web_lg-2.2.5/en_core_web_lg-2.2.5.tar.gz (827.9MB)\n",
            "\u001b[K     |████████████████████████████████| 827.9MB 87.5MB/s \n",
            "\u001b[?25hRequirement already satisfied: spacy>=2.2.2 in /usr/local/lib/python3.6/dist-packages (from en_core_web_lg==2.2.5) (2.2.4)\n",
            "Requirement already satisfied: srsly<1.1.0,>=1.0.2 in /usr/local/lib/python3.6/dist-packages (from spacy>=2.2.2->en_core_web_lg==2.2.5) (1.0.2)\n",
            "Requirement already satisfied: numpy>=1.15.0 in /usr/local/lib/python3.6/dist-packages (from spacy>=2.2.2->en_core_web_lg==2.2.5) (1.18.5)\n",
            "Requirement already satisfied: preshed<3.1.0,>=3.0.2 in /usr/local/lib/python3.6/dist-packages (from spacy>=2.2.2->en_core_web_lg==2.2.5) (3.0.2)\n",
            "Requirement already satisfied: plac<1.2.0,>=0.9.6 in /usr/local/lib/python3.6/dist-packages (from spacy>=2.2.2->en_core_web_lg==2.2.5) (1.1.3)\n",
            "Requirement already satisfied: wasabi<1.1.0,>=0.4.0 in /usr/local/lib/python3.6/dist-packages (from spacy>=2.2.2->en_core_web_lg==2.2.5) (0.7.1)\n",
            "Requirement already satisfied: thinc==7.4.0 in /usr/local/lib/python3.6/dist-packages (from spacy>=2.2.2->en_core_web_lg==2.2.5) (7.4.0)\n",
            "Requirement already satisfied: murmurhash<1.1.0,>=0.28.0 in /usr/local/lib/python3.6/dist-packages (from spacy>=2.2.2->en_core_web_lg==2.2.5) (1.0.2)\n",
            "Requirement already satisfied: cymem<2.1.0,>=2.0.2 in /usr/local/lib/python3.6/dist-packages (from spacy>=2.2.2->en_core_web_lg==2.2.5) (2.0.3)\n",
            "Requirement already satisfied: setuptools in /usr/local/lib/python3.6/dist-packages (from spacy>=2.2.2->en_core_web_lg==2.2.5) (49.6.0)\n",
            "Requirement already satisfied: blis<0.5.0,>=0.4.0 in /usr/local/lib/python3.6/dist-packages (from spacy>=2.2.2->en_core_web_lg==2.2.5) (0.4.1)\n",
            "Requirement already satisfied: tqdm<5.0.0,>=4.38.0 in /usr/local/lib/python3.6/dist-packages (from spacy>=2.2.2->en_core_web_lg==2.2.5) (4.41.1)\n",
            "Requirement already satisfied: requests<3.0.0,>=2.13.0 in /usr/local/lib/python3.6/dist-packages (from spacy>=2.2.2->en_core_web_lg==2.2.5) (2.23.0)\n",
            "Requirement already satisfied: catalogue<1.1.0,>=0.0.7 in /usr/local/lib/python3.6/dist-packages (from spacy>=2.2.2->en_core_web_lg==2.2.5) (1.0.0)\n",
            "Requirement already satisfied: urllib3!=1.25.0,!=1.25.1,<1.26,>=1.21.1 in /usr/local/lib/python3.6/dist-packages (from requests<3.0.0,>=2.13.0->spacy>=2.2.2->en_core_web_lg==2.2.5) (1.24.3)\n",
            "Requirement already satisfied: chardet<4,>=3.0.2 in /usr/local/lib/python3.6/dist-packages (from requests<3.0.0,>=2.13.0->spacy>=2.2.2->en_core_web_lg==2.2.5) (3.0.4)\n",
            "Requirement already satisfied: certifi>=2017.4.17 in /usr/local/lib/python3.6/dist-packages (from requests<3.0.0,>=2.13.0->spacy>=2.2.2->en_core_web_lg==2.2.5) (2020.6.20)\n",
            "Requirement already satisfied: idna<3,>=2.5 in /usr/local/lib/python3.6/dist-packages (from requests<3.0.0,>=2.13.0->spacy>=2.2.2->en_core_web_lg==2.2.5) (2.10)\n",
            "Requirement already satisfied: importlib-metadata>=0.20; python_version < \"3.8\" in /usr/local/lib/python3.6/dist-packages (from catalogue<1.1.0,>=0.0.7->spacy>=2.2.2->en_core_web_lg==2.2.5) (1.7.0)\n",
            "Requirement already satisfied: zipp>=0.5 in /usr/local/lib/python3.6/dist-packages (from importlib-metadata>=0.20; python_version < \"3.8\"->catalogue<1.1.0,>=0.0.7->spacy>=2.2.2->en_core_web_lg==2.2.5) (3.1.0)\n",
            "Building wheels for collected packages: en-core-web-lg\n",
            "  Building wheel for en-core-web-lg (setup.py) ... \u001b[?25l\u001b[?25hdone\n",
            "  Created wheel for en-core-web-lg: filename=en_core_web_lg-2.2.5-cp36-none-any.whl size=829180944 sha256=bb4d902c27a4a868f48239a93939f3de6bcea4014b0c5bcf7054db436dc764ba\n",
            "  Stored in directory: /tmp/pip-ephem-wheel-cache-umd6nwbf/wheels/2a/c1/a6/fc7a877b1efca9bc6a089d6f506f16d3868408f9ff89f8dbfc\n",
            "Successfully built en-core-web-lg\n",
            "Installing collected packages: en-core-web-lg\n",
            "Successfully installed en-core-web-lg-2.2.5\n",
            "\u001b[38;5;2m✔ Download and installation successful\u001b[0m\n",
            "You can now load the model via spacy.load('en_core_web_lg')\n"
          ],
          "name": "stdout"
        }
      ]
    },
    {
      "cell_type": "code",
      "metadata": {
        "id": "1RoT7YEHGWf7",
        "colab_type": "code",
        "colab": {}
      },
      "source": [
        "import spacy\n",
        "import en_core_web_lg\n",
        "nlp=en_core_web_lg.load() "
      ],
      "execution_count": 16,
      "outputs": []
    },
    {
      "cell_type": "markdown",
      "metadata": {
        "id": "g7qCLoN9dSXf",
        "colab_type": "text"
      },
      "source": [
        "**Spacy Word2Vec(with preprocessing)**"
      ]
    },
    {
      "cell_type": "code",
      "metadata": {
        "id": "hVAkQfrNHf0_",
        "colab_type": "code",
        "colab": {}
      },
      "source": [
        "def get_vector(x):\n",
        "    doc=nlp(x)\n",
        "    vec=doc.vector\n",
        "    return vec\n",
        "\n",
        "train_df,test_df=df_train,df_test\n",
        "train_df['vec']=sentence.apply(lambda x: get_vector(x))\n",
        "test_df['vec']=sentence_test.apply(lambda x: get_vector(x))\n",
        "train_X,test_X=train_df['vec'].to_numpy(),test_df['vec'].to_numpy()\n",
        "train_X,test_X=train_X.reshape(-1,1),test_X.reshape(-1,1)\n",
        "train_X=np.concatenate(np.concatenate(train_X,axis=0),axis=0).reshape(-1,300)\n",
        "test_X=np.concatenate(np.concatenate(test_X,axis=0),axis=0).reshape(-1,300)"
      ],
      "execution_count": 17,
      "outputs": []
    },
    {
      "cell_type": "code",
      "metadata": {
        "id": "eDPRnkbyH9SO",
        "colab_type": "code",
        "colab": {
          "base_uri": "https://localhost:8080/",
          "height": 207
        },
        "outputId": "223fb794-6153-4d03-bbcc-ebb269c9188a"
      },
      "source": [
        "clf = LogisticRegression(random_state=0,max_iter=500)\n",
        "clf.fit(train_X,label)\n",
        "predictions1=clf.predict(test_X)\n",
        "print (classification_report(label_test,predictions1))\n",
        "print(\"Accuracy is\",accuracy_score(predictions1,label_test))"
      ],
      "execution_count": 18,
      "outputs": [
        {
          "output_type": "stream",
          "text": [
            "              precision    recall  f1-score   support\n",
            "\n",
            "           0       0.29      0.15      0.19        82\n",
            "           1       0.60      0.69      0.64       303\n",
            "           2       0.65      0.63      0.64       298\n",
            "\n",
            "    accuracy                           0.60       683\n",
            "   macro avg       0.51      0.49      0.49       683\n",
            "weighted avg       0.58      0.60      0.59       683\n",
            "\n",
            "Accuracy is 0.6002928257686676\n"
          ],
          "name": "stdout"
        }
      ]
    },
    {
      "cell_type": "code",
      "metadata": {
        "id": "TtLY4VtYIFLe",
        "colab_type": "code",
        "colab": {
          "base_uri": "https://localhost:8080/",
          "height": 207
        },
        "outputId": "9c692a01-0cf9-4d44-c3b8-e8b331b4fd58"
      },
      "source": [
        "clf=LinearSVC()\n",
        "clf.fit(train_X,label)\n",
        "predictions1=clf.predict(test_X)\n",
        "print (classification_report(label_test,predictions1))\n",
        "print(\"Accuracy is\",accuracy_score(predictions1,label_test))"
      ],
      "execution_count": 19,
      "outputs": [
        {
          "output_type": "stream",
          "text": [
            "              precision    recall  f1-score   support\n",
            "\n",
            "           0       0.28      0.15      0.19        82\n",
            "           1       0.58      0.67      0.62       303\n",
            "           2       0.64      0.63      0.64       298\n",
            "\n",
            "    accuracy                           0.59       683\n",
            "   macro avg       0.50      0.48      0.48       683\n",
            "weighted avg       0.57      0.59      0.58       683\n",
            "\n",
            "Accuracy is 0.5885797950219619\n"
          ],
          "name": "stdout"
        }
      ]
    },
    {
      "cell_type": "markdown",
      "metadata": {
        "id": "oS-2bU5adK_D",
        "colab_type": "text"
      },
      "source": [
        "**Spacy Word2Vec(without preprocessing)**"
      ]
    },
    {
      "cell_type": "code",
      "metadata": {
        "id": "5kliHSltIZTY",
        "colab_type": "code",
        "colab": {}
      },
      "source": [
        "def get_vector(x):\n",
        "    doc=nlp(x)\n",
        "    vec=doc.vector\n",
        "    return vec\n",
        "\n",
        "train_df,test_df=df_train,df_test\n",
        "train_df['vec']=train_df['sentence'].apply(lambda x: get_vector(x))\n",
        "test_df['vec']=test_df['sentence'].apply(lambda x: get_vector(x))\n",
        "train_X,test_X=train_df['vec'].to_numpy(),test_df['vec'].to_numpy()\n",
        "train_X,test_X=train_X.reshape(-1,1),test_X.reshape(-1,1)\n",
        "train_X=np.concatenate(np.concatenate(train_X,axis=0),axis=0).reshape(-1,300)\n",
        "test_X=np.concatenate(np.concatenate(test_X,axis=0),axis=0).reshape(-1,300)"
      ],
      "execution_count": 20,
      "outputs": []
    },
    {
      "cell_type": "code",
      "metadata": {
        "id": "exIkUg7IdsaX",
        "colab_type": "code",
        "colab": {
          "base_uri": "https://localhost:8080/",
          "height": 207
        },
        "outputId": "1459738d-e40b-48bc-c9ec-8af57a2fb818"
      },
      "source": [
        "clf=LinearSVC()\n",
        "clf.fit(train_X,label)\n",
        "predictions=clf.predict(test_X)\n",
        "print (classification_report(label_test,predictions))\n",
        "print(\"Accuracy is\",accuracy_score(predictions,label_test))"
      ],
      "execution_count": 21,
      "outputs": [
        {
          "output_type": "stream",
          "text": [
            "              precision    recall  f1-score   support\n",
            "\n",
            "           0       0.18      0.09      0.12        82\n",
            "           1       0.61      0.68      0.64       303\n",
            "           2       0.66      0.67      0.66       298\n",
            "\n",
            "    accuracy                           0.61       683\n",
            "   macro avg       0.48      0.48      0.47       683\n",
            "weighted avg       0.58      0.61      0.59       683\n",
            "\n",
            "Accuracy is 0.6061493411420205\n"
          ],
          "name": "stdout"
        }
      ]
    },
    {
      "cell_type": "code",
      "metadata": {
        "id": "NFFUVzb8Jj9J",
        "colab_type": "code",
        "colab": {
          "base_uri": "https://localhost:8080/",
          "height": 207
        },
        "outputId": "2ef60f92-4026-4a04-e991-eec41be0f4f6"
      },
      "source": [
        "clf = LogisticRegression(random_state=0,max_iter=500)\n",
        "clf.fit(train_X,label)\n",
        "predictions=clf.predict(test_X)\n",
        "print (classification_report(label_test,predictions))\n",
        "print(\"Accuracy is\",accuracy_score(predictions,label_test))"
      ],
      "execution_count": 22,
      "outputs": [
        {
          "output_type": "stream",
          "text": [
            "              precision    recall  f1-score   support\n",
            "\n",
            "           0       0.23      0.09      0.12        82\n",
            "           1       0.60      0.73      0.66       303\n",
            "           2       0.68      0.66      0.67       298\n",
            "\n",
            "    accuracy                           0.62       683\n",
            "   macro avg       0.51      0.49      0.48       683\n",
            "weighted avg       0.59      0.62      0.60       683\n",
            "\n",
            "Accuracy is 0.6193265007320644\n"
          ],
          "name": "stdout"
        }
      ]
    },
    {
      "cell_type": "code",
      "metadata": {
        "id": "HxQ9kyzYOv2J",
        "colab_type": "code",
        "colab": {
          "base_uri": "https://localhost:8080/",
          "height": 407
        },
        "outputId": "da4e5c4b-9d11-4657-fd63-fed393f518a5"
      },
      "source": [
        "df_final = pd.read_excel('P1_testing.xlsx')\n",
        "df_final['predicted_label']=predictions\n",
        "df_final=df_final.rename(columns={\"label\": \"gold_label\"})\n",
        "df_final"
      ],
      "execution_count": 23,
      "outputs": [
        {
          "output_type": "execute_result",
          "data": {
            "text/html": [
              "<div>\n",
              "<style scoped>\n",
              "    .dataframe tbody tr th:only-of-type {\n",
              "        vertical-align: middle;\n",
              "    }\n",
              "\n",
              "    .dataframe tbody tr th {\n",
              "        vertical-align: top;\n",
              "    }\n",
              "\n",
              "    .dataframe thead th {\n",
              "        text-align: right;\n",
              "    }\n",
              "</style>\n",
              "<table border=\"1\" class=\"dataframe\">\n",
              "  <thead>\n",
              "    <tr style=\"text-align: right;\">\n",
              "      <th></th>\n",
              "      <th>sentence</th>\n",
              "      <th>gold_label</th>\n",
              "      <th>predicted_label</th>\n",
              "    </tr>\n",
              "  </thead>\n",
              "  <tbody>\n",
              "    <tr>\n",
              "      <th>0</th>\n",
              "      <td>even if the whole thing proves to be a creativ...</td>\n",
              "      <td>2</td>\n",
              "      <td>2</td>\n",
              "    </tr>\n",
              "    <tr>\n",
              "      <th>1</th>\n",
              "      <td>, but isn't quite sure how to handle \" sam dee...</td>\n",
              "      <td>1</td>\n",
              "      <td>1</td>\n",
              "    </tr>\n",
              "    <tr>\n",
              "      <th>2</th>\n",
              "      <td>ruby's close friend gretchen ( cuz ya can't ha...</td>\n",
              "      <td>2</td>\n",
              "      <td>1</td>\n",
              "    </tr>\n",
              "    <tr>\n",
              "      <th>3</th>\n",
              "      <td>happy accidents is a romantic comedy filtered ...</td>\n",
              "      <td>2</td>\n",
              "      <td>2</td>\n",
              "    </tr>\n",
              "    <tr>\n",
              "      <th>4</th>\n",
              "      <td>the film stars thandie newton , who was robbed...</td>\n",
              "      <td>2</td>\n",
              "      <td>2</td>\n",
              "    </tr>\n",
              "    <tr>\n",
              "      <th>...</th>\n",
              "      <td>...</td>\n",
              "      <td>...</td>\n",
              "      <td>...</td>\n",
              "    </tr>\n",
              "    <tr>\n",
              "      <th>678</th>\n",
              "      <td>somehow , with a considerable suspension of di...</td>\n",
              "      <td>1</td>\n",
              "      <td>2</td>\n",
              "    </tr>\n",
              "    <tr>\n",
              "      <th>679</th>\n",
              "      <td>occasionally , the violence is slightly uncomf...</td>\n",
              "      <td>0</td>\n",
              "      <td>0</td>\n",
              "    </tr>\n",
              "    <tr>\n",
              "      <th>680</th>\n",
              "      <td>what is perhaps most sensational about gods an...</td>\n",
              "      <td>2</td>\n",
              "      <td>2</td>\n",
              "    </tr>\n",
              "    <tr>\n",
              "      <th>681</th>\n",
              "      <td>he earned that nomination with his touching pe...</td>\n",
              "      <td>2</td>\n",
              "      <td>2</td>\n",
              "    </tr>\n",
              "    <tr>\n",
              "      <th>682</th>\n",
              "      <td>the iron giant , \" which was directed and co-w...</td>\n",
              "      <td>2</td>\n",
              "      <td>1</td>\n",
              "    </tr>\n",
              "  </tbody>\n",
              "</table>\n",
              "<p>683 rows × 3 columns</p>\n",
              "</div>"
            ],
            "text/plain": [
              "                                              sentence  ...  predicted_label\n",
              "0    even if the whole thing proves to be a creativ...  ...                2\n",
              "1    , but isn't quite sure how to handle \" sam dee...  ...                1\n",
              "2    ruby's close friend gretchen ( cuz ya can't ha...  ...                1\n",
              "3    happy accidents is a romantic comedy filtered ...  ...                2\n",
              "4    the film stars thandie newton , who was robbed...  ...                2\n",
              "..                                                 ...  ...              ...\n",
              "678  somehow , with a considerable suspension of di...  ...                2\n",
              "679  occasionally , the violence is slightly uncomf...  ...                0\n",
              "680  what is perhaps most sensational about gods an...  ...                2\n",
              "681  he earned that nomination with his touching pe...  ...                2\n",
              "682  the iron giant , \" which was directed and co-w...  ...                1\n",
              "\n",
              "[683 rows x 3 columns]"
            ]
          },
          "metadata": {
            "tags": []
          },
          "execution_count": 23
        }
      ]
    },
    {
      "cell_type": "markdown",
      "metadata": {
        "id": "0Zpnj_79dqYV",
        "colab_type": "text"
      },
      "source": [
        "**Converting DF to CSV**"
      ]
    },
    {
      "cell_type": "code",
      "metadata": {
        "id": "pVuevC3_Ozdt",
        "colab_type": "code",
        "colab": {
          "base_uri": "https://localhost:8080/",
          "height": 17
        },
        "outputId": "c8bb657a-1931-4784-f06d-9c9b8e32929e"
      },
      "source": [
        "df_final.to_csv('test_output_proposedsolution.csv')\n",
        "files.download('test_output_proposedsolution.csv')"
      ],
      "execution_count": 24,
      "outputs": [
        {
          "output_type": "display_data",
          "data": {
            "application/javascript": [
              "\n",
              "    async function download(id, filename, size) {\n",
              "      if (!google.colab.kernel.accessAllowed) {\n",
              "        return;\n",
              "      }\n",
              "      const div = document.createElement('div');\n",
              "      const label = document.createElement('label');\n",
              "      label.textContent = `Downloading \"${filename}\": `;\n",
              "      div.appendChild(label);\n",
              "      const progress = document.createElement('progress');\n",
              "      progress.max = size;\n",
              "      div.appendChild(progress);\n",
              "      document.body.appendChild(div);\n",
              "\n",
              "      const buffers = [];\n",
              "      let downloaded = 0;\n",
              "\n",
              "      const channel = await google.colab.kernel.comms.open(id);\n",
              "      // Send a message to notify the kernel that we're ready.\n",
              "      channel.send({})\n",
              "\n",
              "      for await (const message of channel.messages) {\n",
              "        // Send a message to notify the kernel that we're ready.\n",
              "        channel.send({})\n",
              "        if (message.buffers) {\n",
              "          for (const buffer of message.buffers) {\n",
              "            buffers.push(buffer);\n",
              "            downloaded += buffer.byteLength;\n",
              "            progress.value = downloaded;\n",
              "          }\n",
              "        }\n",
              "      }\n",
              "      const blob = new Blob(buffers, {type: 'application/binary'});\n",
              "      const a = document.createElement('a');\n",
              "      a.href = window.URL.createObjectURL(blob);\n",
              "      a.download = filename;\n",
              "      div.appendChild(a);\n",
              "      a.click();\n",
              "      div.remove();\n",
              "    }\n",
              "  "
            ],
            "text/plain": [
              "<IPython.core.display.Javascript object>"
            ]
          },
          "metadata": {
            "tags": []
          }
        },
        {
          "output_type": "display_data",
          "data": {
            "application/javascript": [
              "download(\"download_6f378103-5689-4cac-b8e8-10cfab0b9b4b\", \"test_output_proposedsolution.csv\", 187283)"
            ],
            "text/plain": [
              "<IPython.core.display.Javascript object>"
            ]
          },
          "metadata": {
            "tags": []
          }
        }
      ]
    },
    {
      "cell_type": "code",
      "metadata": {
        "id": "4VBCu6Hro5e4",
        "colab_type": "code",
        "colab": {}
      },
      "source": [
        ""
      ],
      "execution_count": null,
      "outputs": []
    }
  ]
}